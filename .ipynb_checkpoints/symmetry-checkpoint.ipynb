{
 "cells": [
  {
   "cell_type": "code",
   "execution_count": 6,
   "id": "1be9d11c-3ddb-4811-bf20-95c3c370a389",
   "metadata": {},
   "outputs": [
    {
     "name": "stdout",
     "output_type": "stream",
     "text": [
      "Scalar Symmetries: 1, 0, 0, 0, 0\n",
      "Pseudoscalar Symmetries: 1, -1, -1, -1, 1\n",
      "Polar Symmetries: 1, [ 0  0 -1], [ 0  0 -1], [0 0 1], [ 0  0 -1]\n",
      "Axial Symmetries: 1, [0 0 1], [0 0 1], [ 0  0 -1], [ 0  0 -1]\n"
     ]
    }
   ],
   "source": [
    "import numpy as np\n",
    "\n",
    "a = np.array([1, 0, 0])\n",
    "b = np.array([0, 1, 0])\n",
    "c = np.array([0, 0, 1])\n",
    "\n",
    "scalarExample = np.dot(a,b)\n",
    "pseudoscalarExample =  np.dot(c, np.cross(a,b))\n",
    "polarVectorExample = c\n",
    "axialVectorExample = np.cross(a,b)\n",
    "\n",
    "identity = np.array([[1, 0, 0], \n",
    "                    [0, 1, 0], \n",
    "                    [0, 0, 1]]) # or, np,array(a, b, c)\n",
    "inversion = np.array([[-1, 0, 0],\n",
    "                     [0, -1, 0],\n",
    "                     [0, 0, -1]]) # provided\n",
    "mirror_z = np.array([[1, 0, 0],\n",
    "                     [0, 1, 0],\n",
    "                     [0, 0, -1]]) #mirroring across the z axis is equivalent to vector[2] *= -1\n",
    "mirror_y = np.array([[1, 0, 0],\n",
    "                     [0, -1, 0],\n",
    "                     [0, 0, 1]]) #similarly, mirroring across the y axis is equivalent to vector[1] *= -1\n",
    "rotation_x_180 = np.array([[1, 0, 0], \n",
    "                           [0, -1, 0],\n",
    "                           [0, 0, -1]]) #a 180 degree rotation about the x axis is the sum of these 2 symmetries! therefore, at least 1 is redundant!\n",
    "\n",
    "scalarInversion = np.dot(inversion @ a, inversion @ b)\n",
    "scalarMirrorZ = np.dot(mirror_z @ a, mirror_z @ b)\n",
    "scalarMirrorY = np.dot(mirror_y @ a, mirror_y @ b)\n",
    "scalarRotation = np.dot(rotation_x_180 @ a, rotation_x_180 @ b)\n",
    "print(f\"Scalar Symmetries: 1, {scalarInversion}, {scalarMirrorZ}, {scalarMirrorY}, {scalarRotation}\")\n",
    "\n",
    "pseudoscalarInversion = np.dot(inversion @ c, np.cross(inversion @ a, inversion @ b))\n",
    "pseudoscalarMirrorZ = np.dot(mirror_z @ c, np.cross(mirror_z @ a, mirror_z @ b))\n",
    "pseudoscalarMirrorY = np.dot(mirror_y @ c, np.cross(mirror_y @ a, mirror_y @ b))\n",
    "pseudoscalarRotation = np.dot(rotation_x_180 @ c, np.cross(rotation_x_180 @ a, rotation_x_180 @ b))\n",
    "print(f\"Pseudoscalar Symmetries: 1, {pseudoscalarInversion}, {pseudoscalarMirrorZ}, {pseudoscalarMirrorY}, {pseudoscalarRotation}\")\n",
    "\n",
    "polarInversion = inversion @ c\n",
    "polarMirrorZ = mirror_z @ c\n",
    "polarMirrorY = mirror_y @ c\n",
    "polarRotation = rotation_x_180 @ c\n",
    "print(f\"Polar Symmetries: 1, {polarInversion}, {polarMirrorZ}, {polarMirrorY}, {polarRotation}\")\n",
    "\n",
    "axialInversion = np.cross(inversion @ a, inversion @ b)\n",
    "axialMirrorZ = np.cross(mirror_z @ a, mirror_z @ b)\n",
    "axialMirrorY = np.cross(mirror_y @ a, mirror_y @ b)\n",
    "axialRotation = np.cross(rotation_x_180 @ a, rotation_x_180 @ b)\n",
    "print(f\"Axial Symmetries: 1, {axialInversion}, {axialMirrorZ}, {axialMirrorY}, {axialRotation}\")"
   ]
  },
  {
   "cell_type": "markdown",
   "id": "dd6c553f-2dca-4b2e-8426-33ac01910b0f",
   "metadata": {},
   "source": [
    "| 1D Object    | Identity | Inversion | Mirror, Z | Mirror, Y | 180 Rotation, X |\n",
    "|--------------|----------|-----------|-----------|-----------|-----------------|\n",
    "| Scalar       | 1        | 1         | 1         | 1         | 1               |\n",
    "|--------------|----------|-----------|-----------|-----------|-----------------|\n",
    "| Pseudoscalar | 1        | -1        | -1        | -1        | 1               |\n",
    "|--------------|----------|-----------|-----------|-----------|-----------------|\n",
    "| Polar Vector | 1        | -1        | -1        | 1         | -1              |\n",
    "|--------------|----------|-----------|-----------|-----------|-----------------|\n",
    "| Axial vector | 1        | 1         | 1         | -1        | -1              |\n",
    "\n",
    "Okay it's not pretty but. The values are there.\n",
    "It is worth noting, a 180 degree rotation about X is the sum of MirrorZ and MirrorY, meaning that at least one is dependent -\n",
    "mathematically, it shouldn't matter which, but convention and usage may disagree"
   ]
  },
  {
   "cell_type": "code",
   "execution_count": null,
   "id": "bf252bfd-2f13-4741-9da6-db054aa3d750",
   "metadata": {},
   "outputs": [],
   "source": []
  }
 ],
 "metadata": {
  "kernelspec": {
   "display_name": "Python 3 (ipykernel)",
   "language": "python",
   "name": "python3"
  },
  "language_info": {
   "codemirror_mode": {
    "name": "ipython",
    "version": 3
   },
   "file_extension": ".py",
   "mimetype": "text/x-python",
   "name": "python",
   "nbconvert_exporter": "python",
   "pygments_lexer": "ipython3",
   "version": "3.9.19"
  }
 },
 "nbformat": 4,
 "nbformat_minor": 5
}
